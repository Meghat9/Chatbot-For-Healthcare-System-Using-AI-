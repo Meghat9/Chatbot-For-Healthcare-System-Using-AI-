{
 "cells": [
  {
   "cell_type": "code",
   "execution_count": null,
   "id": "ae1244d6",
   "metadata": {},
   "outputs": [],
   "source": [
    "#Import the libraries\n",
    "from newspaper import Article\n",
    "import random\n",
    "import string\n",
    "import nltk\n",
    "from sklearn.feature_extraction.text import CountVectorizer\n",
    "from sklearn.metrics.pairwise import cosine\n",
    "import numpy as np\n",
    "import warnings\n",
    "warnings. filterwarnings('ignore')"
   ]
  },
  {
   "cell_type": "code",
   "execution_count": null,
   "id": "46f5299b",
   "metadata": {},
   "outputs": [],
   "source": [
    "pip install newspaper3k"
   ]
  },
  {
   "cell_type": "code",
   "execution_count": null,
   "id": "bafa126c",
   "metadata": {},
   "outputs": [],
   "source": [
    "#Import the libraries\n",
    "from newspaper import Article\n",
    "import random\n",
    "import string\n",
    "import nltk\n",
    "from sklearn.feature_extraction.text import CountVectorizer\n",
    "from sklearn.metrics.pairwise import cosine_similarity\n",
    "import numpy as np\n",
    "import warnings\n",
    "warnings. filterwarnings('ignore')"
   ]
  },
  {
   "cell_type": "code",
   "execution_count": null,
   "id": "b05f04b4",
   "metadata": {},
   "outputs": [],
   "source": [
    "pip install sklearn"
   ]
  },
  {
   "cell_type": "code",
   "execution_count": null,
   "id": "42afc71b",
   "metadata": {},
   "outputs": [],
   "source": [
    "#Import the libraries\n",
    "from newspaper import Article\n",
    "import random\n",
    "import string\n",
    "import nltk\n",
    "from sklearn.feature_extraction.text import CountVectorizer\n",
    "from sklearn.metrics.pairwise import cosine_similarity\n",
    "import numpy as np\n",
    "import warnings\n",
    "warnings. filterwarnings('ignore')"
   ]
  },
  {
   "cell_type": "code",
   "execution_count": null,
   "id": "96add1cf",
   "metadata": {},
   "outputs": [],
   "source": [
    "nltk.download('punkt',quiet=True)"
   ]
  },
  {
   "cell_type": "code",
   "execution_count": null,
   "id": "6887b73e",
   "metadata": {},
   "outputs": [],
   "source": [
    "nltk.download('punkt',quiet=True)"
   ]
  },
  {
   "cell_type": "code",
   "execution_count": null,
   "id": "1e8c2222",
   "metadata": {},
   "outputs": [],
   "source": [
    "article=Article('https://www.mayoclinic.org/diseases-conditions/chronic-kidney-disease/symptoms-causes/syc-20354521')\n",
    "article.download()\n",
    "article.parse()\n",
    "article.nlp()\n",
    "corpus = article.text"
   ]
  },
  {
   "cell_type": "code",
   "execution_count": null,
   "id": "00fb6ed8",
   "metadata": {},
   "outputs": [],
   "source": [
    "print(corpus)"
   ]
  },
  {
   "cell_type": "code",
   "execution_count": null,
   "id": "e32575dc",
   "metadata": {},
   "outputs": [],
   "source": [
    "text = corpus\n",
    "sentence_list = nltk.sent_tokenize(text)"
   ]
  },
  {
   "cell_type": "code",
   "execution_count": null,
   "id": "5673be08",
   "metadata": {},
   "outputs": [],
   "source": [
    "print(sentence_list)"
   ]
  },
  {
   "cell_type": "code",
   "execution_count": null,
   "id": "83da5974",
   "metadata": {},
   "outputs": [],
   "source": [
    "# A function to return a random greeting response to a users greeting \n",
    "def greeting_response(text):\n",
    "    text = text.lower()\n",
    "    #Bots greeting response\n",
    "    #Users greeting\n",
    "    bot_greetings = ['howdy', 'hi', 'hey', 'hello', 'hola']\n",
    "    #Users greeting\n",
    "    user_greetings = ['hi', 'hey', 'hello', 'hola', 'greetings', 'wassup']\n",
    "    for word in text.split():\n",
    "        if word in user_greetings:\n",
    "            return random.choice(bot_greetings)"
   ]
  },
  {
   "cell_type": "code",
   "execution_count": null,
   "id": "06f54cda",
   "metadata": {},
   "outputs": [],
   "source": [
    "def index_sort(list_var):\n",
    "    length = len(list_var)\n",
    "    list_index = list (range(0, length))\n",
    "    \n",
    "    x = list_var\n",
    "    for i in range (length):\n",
    "        for j in range (length):\n",
    "            if x[list_index[i]] > x[list_index[j]]:\n",
    "                #Swap\n",
    "                temp = list_index[i]\n",
    "                list_index[i] = list_index[j]\n",
    "                list_index[j] = temp\n",
    "                \n",
    "                return list_index"
   ]
  },
  {
   "cell_type": "code",
   "execution_count": null,
   "id": "70a7e5d1",
   "metadata": {},
   "outputs": [],
   "source": [
    "#Create the bots response\n",
    "def bot_response(user_input):\n",
    "        user_input =user_input.lower()\n",
    "        sentence_list.append(user_input)\n",
    "        bot_response =''\n",
    "        cm=CountVectorizer().fit_transform(sentence_list) \n",
    "        similarity_scores=cosine_similarity (cm[-1], cm)  \n",
    "        similarity_scores_list=similarity_scores.flatten() \n",
    "        index = index_sort(similarity_scores_list)\n",
    "        #Index = index_sort(similarity_scores_list)\n",
    "        index = index[1:]\n",
    "        response_flag=0\n",
    "        \n",
    "        j=0\n",
    "        for i in range(len(index)):\n",
    "            if  similarity_scores_list[index[i]] > 0.0:\n",
    "                bot_response=bot_response+' '+sentence_list[index[i]]\n",
    "                response_flag=1\n",
    "                j=j+1\n",
    "            if j>2:\n",
    "                break\n",
    "                    \n",
    "        if response_flag==0:\n",
    "            bot_response=bot_response+' '+\"I apologize,I dont understand.\"\n",
    "            \n",
    "        sentence_list.remove(user_input)\n",
    "            \n",
    "        return bot_response"
   ]
  },
  {
   "cell_type": "code",
   "execution_count": null,
   "id": "00f8e23b",
   "metadata": {},
   "outputs": [],
   "source": [
    "#Start the chat \n",
    "print('Doc Bot: I am Doctor Bot or Doc Bot for short.I will answer your queries about Chronic Kidney Disease. If you want to exit, type bye.') \n",
    "\n",
    "exit_list = ['exit', 'see you later', 'bye', 'quit', 'break']\n",
    "\n",
    "while(True):\n",
    "    user_input= input()  \n",
    "    if user_input. lower() in exit_list:\n",
    "        print('Doc Bot: Chat with you later !')\n",
    "        break\n",
    "    else:\n",
    "        if greeting_response (user_input)!= None:\n",
    "            print('Doc Bot:  '+greeting_response (user_input))\n",
    "        else:\n",
    "            print('Doc Bot:  '+bot_response (user_input))\n",
    "            "
   ]
  },
  {
   "cell_type": "code",
   "execution_count": null,
   "id": "5525ebe9",
   "metadata": {},
   "outputs": [],
   "source": []
  },
  {
   "cell_type": "code",
   "execution_count": null,
   "id": "66ab4533",
   "metadata": {},
   "outputs": [],
   "source": []
  },
  {
   "cell_type": "code",
   "execution_count": null,
   "id": "3143c95f",
   "metadata": {},
   "outputs": [],
   "source": []
  },
  {
   "cell_type": "code",
   "execution_count": null,
   "id": "2b75b9ab",
   "metadata": {},
   "outputs": [],
   "source": []
  },
  {
   "cell_type": "code",
   "execution_count": null,
   "id": "27730ea6",
   "metadata": {},
   "outputs": [],
   "source": []
  }
 ],
 "metadata": {
  "kernelspec": {
   "display_name": "Python 3 (ipykernel)",
   "language": "python",
   "name": "python3"
  },
  "language_info": {
   "codemirror_mode": {
    "name": "ipython",
    "version": 3
   },
   "file_extension": ".py",
   "mimetype": "text/x-python",
   "name": "python",
   "nbconvert_exporter": "python",
   "pygments_lexer": "ipython3",
   "version": "3.10.0"
  },
  "widgets": {
   "application/vnd.jupyter.widget-state+json": {
    "state": {},
    "version_major": 2,
    "version_minor": 0
   }
  }
 },
 "nbformat": 4,
 "nbformat_minor": 5
}
